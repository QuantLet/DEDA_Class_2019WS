{
 "cells": [
  {
   "cell_type": "markdown",
   "metadata": {},
   "source": [
    "## Market Cap for 2017-2019 for 200 coins as well as total market Cap"
   ]
  },
  {
   "cell_type": "code",
   "execution_count": 26,
   "metadata": {
    "scrolled": true
   },
   "outputs": [
    {
     "ename": "AttributeError",
     "evalue": "'NoneType' object has no attribute 'text'",
     "output_type": "error",
     "traceback": [
      "\u001b[1;31m---------------------------------------------------------------------------\u001b[0m",
      "\u001b[1;31mAttributeError\u001b[0m                            Traceback (most recent call last)",
      "\u001b[1;32m<ipython-input-26-d43ce8ec1419>\u001b[0m in \u001b[0;36m<module>\u001b[1;34m\u001b[0m\n\u001b[0;32m     20\u001b[0m \u001b[1;33m\u001b[0m\u001b[0m\n\u001b[0;32m     21\u001b[0m     \u001b[1;31m# Extract total Market Cap of the day\u001b[0m\u001b[1;33m\u001b[0m\u001b[1;33m\u001b[0m\u001b[1;33m\u001b[0m\u001b[0m\n\u001b[1;32m---> 22\u001b[1;33m     \u001b[0mtotalMarketCapStr\u001b[0m \u001b[1;33m=\u001b[0m \u001b[0msoup\u001b[0m\u001b[1;33m.\u001b[0m\u001b[0mfind\u001b[0m\u001b[1;33m(\u001b[0m\u001b[1;34m'strong'\u001b[0m\u001b[1;33m)\u001b[0m\u001b[1;33m.\u001b[0m\u001b[0mtext\u001b[0m\u001b[1;33m\u001b[0m\u001b[1;33m\u001b[0m\u001b[0m\n\u001b[0m\u001b[0;32m     23\u001b[0m     \u001b[0mtotalMarketCapStr\u001b[0m \u001b[1;33m=\u001b[0m \u001b[0mtotalMarketCapStr\u001b[0m\u001b[1;33m[\u001b[0m\u001b[0mtotalMarketCapStr\u001b[0m\u001b[1;33m.\u001b[0m\u001b[0mindex\u001b[0m\u001b[1;33m(\u001b[0m\u001b[1;34m'$'\u001b[0m\u001b[1;33m)\u001b[0m\u001b[1;33m:\u001b[0m\u001b[1;33m]\u001b[0m\u001b[1;33m\u001b[0m\u001b[1;33m\u001b[0m\u001b[0m\n\u001b[0;32m     24\u001b[0m     \u001b[0mtotalMarketCap\u001b[0m \u001b[1;33m=\u001b[0m \u001b[0mfloat\u001b[0m\u001b[1;33m(\u001b[0m\u001b[0mre\u001b[0m\u001b[1;33m.\u001b[0m\u001b[0msub\u001b[0m\u001b[1;33m(\u001b[0m\u001b[1;34mr',|\\$'\u001b[0m\u001b[1;33m,\u001b[0m \u001b[1;34m''\u001b[0m\u001b[1;33m,\u001b[0m \u001b[0mtotalMarketCapStr\u001b[0m\u001b[1;33m.\u001b[0m\u001b[0mstrip\u001b[0m\u001b[1;33m(\u001b[0m\u001b[1;33m)\u001b[0m\u001b[1;33m)\u001b[0m\u001b[1;33m)\u001b[0m\u001b[1;33m\u001b[0m\u001b[1;33m\u001b[0m\u001b[0m\n",
      "\u001b[1;31mAttributeError\u001b[0m: 'NoneType' object has no attribute 'text'"
     ]
    }
   ],
   "source": [
    "import pandas as pd\n",
    "import numpy as np\n",
    "import requests\n",
    "import re\n",
    "from bs4 import BeautifulSoup\n",
    "from time import sleep\n",
    "\n",
    "# Create date range for historical snapshots\n",
    "Date = pd.date_range(start='20170101', end='20191120', freq='7D').strftime('%Y%m%d')\n",
    "\n",
    "result = np.empty((201,1))\n",
    "for date in Date:\n",
    "\n",
    "    # Retrieve historical snapshot data from date\n",
    "    page = requests.get('https://coinmarketcap.com/historical/'+date)\n",
    "    soup = BeautifulSoup(page.content, 'html.parser')\n",
    "    \n",
    "    # Extract html containers for each coin\n",
    "    coin_containers = soup.find_all('tr', class_ = 'cmc-table-row sc-1ebpa92-0 kQmhAn')\n",
    "    \n",
    "    # Extract total Market Cap of the day\n",
    "    totalMarketCapStr = soup.find('strong').text\n",
    "    totalMarketCapStr = totalMarketCapStr[totalMarketCapStr.index('$'):]\n",
    "    totalMarketCap = float(re.sub(r',|\\$', '', totalMarketCapStr.strip()))\n",
    "    \n",
    "    daily = (date,totalMarketCap)\n",
    "    for coin in coin_containers:\n",
    "\n",
    "        coin_name = coin.find('td', class_ = 'cmc-table__cell cmc-table__cell--sortable cmc-table__cell--left cmc-table__cell--sort-by__symbol').text\n",
    "        \n",
    "        mktCapStr = coin.find('div', class_ = 'ggzdxp-0 kftDYz').text\n",
    "        \n",
    "        # convert the string into float\n",
    "        mktCap = float(re.sub(r',|\\$', '', mktCapStr.strip()))    \n",
    "\n",
    "        daily = np.vstack((daily, (coin_name, mktCap)))\n",
    "    \n",
    "    \n",
    "    result = np.hstack((result, daily))\n",
    "    \n",
    "    sleep(12)\n",
    "# Delete the first redundant column\n",
    "result = result[:,1:]\n",
    "    \n",
    "# Create data frame of data\n",
    "df = pd.DataFrame(result)\n",
    "\n",
    "# Write data to file\n",
    "df.to_csv('total_market_cap17-19.csv', index = False)    \n",
    "    "
   ]
  }
 ],
 "metadata": {
  "kernelspec": {
   "display_name": "Python 3",
   "language": "python",
   "name": "python3"
  },
  "language_info": {
   "codemirror_mode": {
    "name": "ipython",
    "version": 3
   },
   "file_extension": ".py",
   "mimetype": "text/x-python",
   "name": "python",
   "nbconvert_exporter": "python",
   "pygments_lexer": "ipython3",
   "version": "3.7.4"
  }
 },
 "nbformat": 4,
 "nbformat_minor": 2
}
